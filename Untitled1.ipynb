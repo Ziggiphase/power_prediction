{
 "cells": [
  {
   "cell_type": "code",
   "execution_count": 1,
   "id": "a41549ee-9438-4538-8481-a17054357935",
   "metadata": {},
   "outputs": [],
   "source": [
    "#  Importing libraries\n",
    "import numpy as np\n",
    "import pandas as pd\n",
    "import seaborn as sns\n",
    "import matplotlib.pyplot as plt\n",
    "# Data Preprocessing & Splitting\n",
    "from sklearn.model_selection import train_test_split\n",
    "from sklearn.impute import SimpleImputer\n",
    "# Machine Learning Models\n",
    "from sklearn.linear_model import LinearRegression\n",
    "from sklearn.ensemble import RandomForestRegressor\n",
    "from sklearn.svm import SVR\n",
    "# Model Evaluation Metrics\n",
    "from sklearn.metrics import mean_absolute_error, mean_squared_error, r2_score\n",
    "# Hyperparameter Tuning\n",
    "from sklearn.model_selection import GridSearchCV, RandomizedSearchCV"
   ]
  },
  {
   "cell_type": "code",
   "execution_count": 2,
   "id": "82f55839-e07b-4b4d-b6e5-619c0c3a08fd",
   "metadata": {},
   "outputs": [],
   "source": [
    "df = pd.read_excel(\"Engr_Chika_Data_Refined.xlsx\")"
   ]
  },
  {
   "cell_type": "code",
   "execution_count": 3,
   "id": "01f6666a-cd3c-4a5c-aaf2-7e592cfdeddf",
   "metadata": {},
   "outputs": [
    {
     "data": {
      "text/html": [
       "<div>\n",
       "<style scoped>\n",
       "    .dataframe tbody tr th:only-of-type {\n",
       "        vertical-align: middle;\n",
       "    }\n",
       "\n",
       "    .dataframe tbody tr th {\n",
       "        vertical-align: top;\n",
       "    }\n",
       "\n",
       "    .dataframe thead th {\n",
       "        text-align: right;\n",
       "    }\n",
       "</style>\n",
       "<table border=\"1\" class=\"dataframe\">\n",
       "  <thead>\n",
       "    <tr style=\"text-align: right;\">\n",
       "      <th></th>\n",
       "      <th>Time</th>\n",
       "      <th>S1</th>\n",
       "      <th>S2</th>\n",
       "      <th>S3</th>\n",
       "      <th>ST</th>\n",
       "      <th>P1</th>\n",
       "      <th>P2</th>\n",
       "      <th>P3</th>\n",
       "      <th>PT</th>\n",
       "    </tr>\n",
       "  </thead>\n",
       "  <tbody>\n",
       "    <tr>\n",
       "      <th>0</th>\n",
       "      <td>0</td>\n",
       "      <td>6.2389</td>\n",
       "      <td>7.4459</td>\n",
       "      <td>8.2823</td>\n",
       "      <td>21.9671</td>\n",
       "      <td>274.644</td>\n",
       "      <td>276.426</td>\n",
       "      <td>251.100</td>\n",
       "      <td>802.170</td>\n",
       "    </tr>\n",
       "    <tr>\n",
       "      <th>1</th>\n",
       "      <td>1</td>\n",
       "      <td>5.4219</td>\n",
       "      <td>4.8077</td>\n",
       "      <td>5.1969</td>\n",
       "      <td>15.4265</td>\n",
       "      <td>234.846</td>\n",
       "      <td>281.286</td>\n",
       "      <td>193.752</td>\n",
       "      <td>709.884</td>\n",
       "    </tr>\n",
       "    <tr>\n",
       "      <th>2</th>\n",
       "      <td>2</td>\n",
       "      <td>5.0748</td>\n",
       "      <td>3.6868</td>\n",
       "      <td>3.1097</td>\n",
       "      <td>11.8713</td>\n",
       "      <td>263.682</td>\n",
       "      <td>270.216</td>\n",
       "      <td>150.390</td>\n",
       "      <td>684.288</td>\n",
       "    </tr>\n",
       "    <tr>\n",
       "      <th>3</th>\n",
       "      <td>3</td>\n",
       "      <td>3.4120</td>\n",
       "      <td>3.6288</td>\n",
       "      <td>4.3667</td>\n",
       "      <td>11.4075</td>\n",
       "      <td>200.826</td>\n",
       "      <td>181.926</td>\n",
       "      <td>169.506</td>\n",
       "      <td>552.258</td>\n",
       "    </tr>\n",
       "    <tr>\n",
       "      <th>4</th>\n",
       "      <td>4</td>\n",
       "      <td>6.8460</td>\n",
       "      <td>3.9673</td>\n",
       "      <td>4.2200</td>\n",
       "      <td>15.0333</td>\n",
       "      <td>153.036</td>\n",
       "      <td>158.544</td>\n",
       "      <td>135.216</td>\n",
       "      <td>446.796</td>\n",
       "    </tr>\n",
       "  </tbody>\n",
       "</table>\n",
       "</div>"
      ],
      "text/plain": [
       "   Time      S1      S2      S3       ST       P1       P2       P3       PT\n",
       "0     0  6.2389  7.4459  8.2823  21.9671  274.644  276.426  251.100  802.170\n",
       "1     1  5.4219  4.8077  5.1969  15.4265  234.846  281.286  193.752  709.884\n",
       "2     2  5.0748  3.6868  3.1097  11.8713  263.682  270.216  150.390  684.288\n",
       "3     3  3.4120  3.6288  4.3667  11.4075  200.826  181.926  169.506  552.258\n",
       "4     4  6.8460  3.9673  4.2200  15.0333  153.036  158.544  135.216  446.796"
      ]
     },
     "execution_count": 3,
     "metadata": {},
     "output_type": "execute_result"
    }
   ],
   "source": [
    "df.head()"
   ]
  },
  {
   "cell_type": "code",
   "execution_count": 4,
   "id": "1d55d957-0b6a-490c-b069-7060e8a4e23f",
   "metadata": {},
   "outputs": [
    {
     "data": {
      "text/html": [
       "<div>\n",
       "<style scoped>\n",
       "    .dataframe tbody tr th:only-of-type {\n",
       "        vertical-align: middle;\n",
       "    }\n",
       "\n",
       "    .dataframe tbody tr th {\n",
       "        vertical-align: top;\n",
       "    }\n",
       "\n",
       "    .dataframe thead th {\n",
       "        text-align: right;\n",
       "    }\n",
       "</style>\n",
       "<table border=\"1\" class=\"dataframe\">\n",
       "  <thead>\n",
       "    <tr style=\"text-align: right;\">\n",
       "      <th></th>\n",
       "      <th>Time</th>\n",
       "      <th>S1</th>\n",
       "      <th>S2</th>\n",
       "      <th>S3</th>\n",
       "      <th>ST</th>\n",
       "      <th>P1</th>\n",
       "      <th>P2</th>\n",
       "      <th>P3</th>\n",
       "      <th>PT</th>\n",
       "    </tr>\n",
       "  </thead>\n",
       "  <tbody>\n",
       "    <tr>\n",
       "      <th>228</th>\n",
       "      <td>235</td>\n",
       "      <td>2.2065</td>\n",
       "      <td>2.3330</td>\n",
       "      <td>2.7710</td>\n",
       "      <td>7.3105</td>\n",
       "      <td>175.338</td>\n",
       "      <td>187.866</td>\n",
       "      <td>174.096</td>\n",
       "      <td>537.300</td>\n",
       "    </tr>\n",
       "    <tr>\n",
       "      <th>229</th>\n",
       "      <td>236</td>\n",
       "      <td>3.2437</td>\n",
       "      <td>3.6176</td>\n",
       "      <td>4.8380</td>\n",
       "      <td>11.6993</td>\n",
       "      <td>175.554</td>\n",
       "      <td>186.840</td>\n",
       "      <td>175.662</td>\n",
       "      <td>538.056</td>\n",
       "    </tr>\n",
       "    <tr>\n",
       "      <th>230</th>\n",
       "      <td>237</td>\n",
       "      <td>3.7920</td>\n",
       "      <td>3.8828</td>\n",
       "      <td>5.3536</td>\n",
       "      <td>13.0284</td>\n",
       "      <td>177.714</td>\n",
       "      <td>187.326</td>\n",
       "      <td>175.392</td>\n",
       "      <td>540.432</td>\n",
       "    </tr>\n",
       "    <tr>\n",
       "      <th>231</th>\n",
       "      <td>238</td>\n",
       "      <td>3.6214</td>\n",
       "      <td>4.1689</td>\n",
       "      <td>5.4164</td>\n",
       "      <td>13.2067</td>\n",
       "      <td>178.740</td>\n",
       "      <td>189.648</td>\n",
       "      <td>178.470</td>\n",
       "      <td>546.858</td>\n",
       "    </tr>\n",
       "    <tr>\n",
       "      <th>232</th>\n",
       "      <td>239</td>\n",
       "      <td>3.6632</td>\n",
       "      <td>4.3163</td>\n",
       "      <td>4.4102</td>\n",
       "      <td>12.3897</td>\n",
       "      <td>177.282</td>\n",
       "      <td>189.216</td>\n",
       "      <td>176.904</td>\n",
       "      <td>543.402</td>\n",
       "    </tr>\n",
       "  </tbody>\n",
       "</table>\n",
       "</div>"
      ],
      "text/plain": [
       "     Time      S1      S2      S3       ST       P1       P2       P3       PT\n",
       "228   235  2.2065  2.3330  2.7710   7.3105  175.338  187.866  174.096  537.300\n",
       "229   236  3.2437  3.6176  4.8380  11.6993  175.554  186.840  175.662  538.056\n",
       "230   237  3.7920  3.8828  5.3536  13.0284  177.714  187.326  175.392  540.432\n",
       "231   238  3.6214  4.1689  5.4164  13.2067  178.740  189.648  178.470  546.858\n",
       "232   239  3.6632  4.3163  4.4102  12.3897  177.282  189.216  176.904  543.402"
      ]
     },
     "execution_count": 4,
     "metadata": {},
     "output_type": "execute_result"
    }
   ],
   "source": [
    "df.tail()"
   ]
  },
  {
   "cell_type": "code",
   "execution_count": 5,
   "id": "7e8c83e8-4d51-40f0-a40e-a91e2215bdb3",
   "metadata": {},
   "outputs": [
    {
     "name": "stdout",
     "output_type": "stream",
     "text": [
      "<class 'pandas.core.frame.DataFrame'>\n",
      "RangeIndex: 233 entries, 0 to 232\n",
      "Data columns (total 9 columns):\n",
      " #   Column  Non-Null Count  Dtype  \n",
      "---  ------  --------------  -----  \n",
      " 0   Time    233 non-null    int64  \n",
      " 1   S1      233 non-null    float64\n",
      " 2   S2      233 non-null    float64\n",
      " 3   S3      233 non-null    float64\n",
      " 4   ST      233 non-null    float64\n",
      " 5   P1      221 non-null    float64\n",
      " 6   P2      221 non-null    float64\n",
      " 7   P3      221 non-null    float64\n",
      " 8   PT      227 non-null    float64\n",
      "dtypes: float64(8), int64(1)\n",
      "memory usage: 16.5 KB\n"
     ]
    }
   ],
   "source": [
    "# To display information about the dataset\n",
    "df.info()"
   ]
  },
  {
   "cell_type": "code",
   "execution_count": 6,
   "id": "7655a16f-eda9-43b7-b8d1-37c542aef6d1",
   "metadata": {},
   "outputs": [
    {
     "data": {
      "text/plain": [
       "(233, 9)"
      ]
     },
     "execution_count": 6,
     "metadata": {},
     "output_type": "execute_result"
    }
   ],
   "source": [
    "# To show the number of rows and columns in the dataset (no of rows, no of columns)\n",
    "df.shape"
   ]
  },
  {
   "cell_type": "code",
   "execution_count": 7,
   "id": "5514827b-646b-4d0b-9e58-61147d7e77b0",
   "metadata": {},
   "outputs": [
    {
     "data": {
      "text/html": [
       "<div>\n",
       "<style scoped>\n",
       "    .dataframe tbody tr th:only-of-type {\n",
       "        vertical-align: middle;\n",
       "    }\n",
       "\n",
       "    .dataframe tbody tr th {\n",
       "        vertical-align: top;\n",
       "    }\n",
       "\n",
       "    .dataframe thead th {\n",
       "        text-align: right;\n",
       "    }\n",
       "</style>\n",
       "<table border=\"1\" class=\"dataframe\">\n",
       "  <thead>\n",
       "    <tr style=\"text-align: right;\">\n",
       "      <th></th>\n",
       "      <th>count</th>\n",
       "      <th>mean</th>\n",
       "      <th>std</th>\n",
       "      <th>min</th>\n",
       "      <th>25%</th>\n",
       "      <th>50%</th>\n",
       "      <th>75%</th>\n",
       "      <th>max</th>\n",
       "    </tr>\n",
       "  </thead>\n",
       "  <tbody>\n",
       "    <tr>\n",
       "      <th>Time</th>\n",
       "      <td>233.0</td>\n",
       "      <td>119.064378</td>\n",
       "      <td>70.418577</td>\n",
       "      <td>0.0000</td>\n",
       "      <td>58.0000</td>\n",
       "      <td>116.0000</td>\n",
       "      <td>181.0000</td>\n",
       "      <td>239.0000</td>\n",
       "    </tr>\n",
       "    <tr>\n",
       "      <th>S1</th>\n",
       "      <td>233.0</td>\n",
       "      <td>4.927389</td>\n",
       "      <td>1.972680</td>\n",
       "      <td>0.0315</td>\n",
       "      <td>3.0520</td>\n",
       "      <td>4.9342</td>\n",
       "      <td>6.8342</td>\n",
       "      <td>8.1269</td>\n",
       "    </tr>\n",
       "    <tr>\n",
       "      <th>S2</th>\n",
       "      <td>233.0</td>\n",
       "      <td>5.310852</td>\n",
       "      <td>2.066430</td>\n",
       "      <td>0.0190</td>\n",
       "      <td>3.6288</td>\n",
       "      <td>4.3896</td>\n",
       "      <td>7.3792</td>\n",
       "      <td>8.8232</td>\n",
       "    </tr>\n",
       "    <tr>\n",
       "      <th>S3</th>\n",
       "      <td>233.0</td>\n",
       "      <td>5.501664</td>\n",
       "      <td>1.960384</td>\n",
       "      <td>0.0434</td>\n",
       "      <td>4.2294</td>\n",
       "      <td>5.0433</td>\n",
       "      <td>7.1692</td>\n",
       "      <td>10.2075</td>\n",
       "    </tr>\n",
       "    <tr>\n",
       "      <th>ST</th>\n",
       "      <td>233.0</td>\n",
       "      <td>15.739906</td>\n",
       "      <td>5.641158</td>\n",
       "      <td>0.0939</td>\n",
       "      <td>11.2601</td>\n",
       "      <td>13.0284</td>\n",
       "      <td>21.5055</td>\n",
       "      <td>25.4088</td>\n",
       "    </tr>\n",
       "    <tr>\n",
       "      <th>P1</th>\n",
       "      <td>221.0</td>\n",
       "      <td>222.409416</td>\n",
       "      <td>47.748699</td>\n",
       "      <td>149.2020</td>\n",
       "      <td>176.3640</td>\n",
       "      <td>203.1110</td>\n",
       "      <td>272.7000</td>\n",
       "      <td>308.7180</td>\n",
       "    </tr>\n",
       "    <tr>\n",
       "      <th>P2</th>\n",
       "      <td>221.0</td>\n",
       "      <td>231.494258</td>\n",
       "      <td>46.787348</td>\n",
       "      <td>156.4380</td>\n",
       "      <td>186.4620</td>\n",
       "      <td>211.3560</td>\n",
       "      <td>279.5580</td>\n",
       "      <td>322.5960</td>\n",
       "    </tr>\n",
       "    <tr>\n",
       "      <th>P3</th>\n",
       "      <td>221.0</td>\n",
       "      <td>201.202018</td>\n",
       "      <td>36.567245</td>\n",
       "      <td>135.2160</td>\n",
       "      <td>171.3960</td>\n",
       "      <td>177.4440</td>\n",
       "      <td>240.3540</td>\n",
       "      <td>278.4780</td>\n",
       "    </tr>\n",
       "    <tr>\n",
       "      <th>PT</th>\n",
       "      <td>227.0</td>\n",
       "      <td>637.790123</td>\n",
       "      <td>162.072935</td>\n",
       "      <td>0.0000</td>\n",
       "      <td>533.8170</td>\n",
       "      <td>582.6600</td>\n",
       "      <td>788.9670</td>\n",
       "      <td>909.7920</td>\n",
       "    </tr>\n",
       "  </tbody>\n",
       "</table>\n",
       "</div>"
      ],
      "text/plain": [
       "      count        mean         std       min       25%       50%       75%  \\\n",
       "Time  233.0  119.064378   70.418577    0.0000   58.0000  116.0000  181.0000   \n",
       "S1    233.0    4.927389    1.972680    0.0315    3.0520    4.9342    6.8342   \n",
       "S2    233.0    5.310852    2.066430    0.0190    3.6288    4.3896    7.3792   \n",
       "S3    233.0    5.501664    1.960384    0.0434    4.2294    5.0433    7.1692   \n",
       "ST    233.0   15.739906    5.641158    0.0939   11.2601   13.0284   21.5055   \n",
       "P1    221.0  222.409416   47.748699  149.2020  176.3640  203.1110  272.7000   \n",
       "P2    221.0  231.494258   46.787348  156.4380  186.4620  211.3560  279.5580   \n",
       "P3    221.0  201.202018   36.567245  135.2160  171.3960  177.4440  240.3540   \n",
       "PT    227.0  637.790123  162.072935    0.0000  533.8170  582.6600  788.9670   \n",
       "\n",
       "           max  \n",
       "Time  239.0000  \n",
       "S1      8.1269  \n",
       "S2      8.8232  \n",
       "S3     10.2075  \n",
       "ST     25.4088  \n",
       "P1    308.7180  \n",
       "P2    322.5960  \n",
       "P3    278.4780  \n",
       "PT    909.7920  "
      ]
     },
     "execution_count": 7,
     "metadata": {},
     "output_type": "execute_result"
    }
   ],
   "source": [
    "# To display the summary statistics of numerical columns in the dataset\n",
    "df.describe().T"
   ]
  },
  {
   "cell_type": "code",
   "execution_count": 8,
   "id": "066b0ec5-796e-4f70-89c4-243dcdef79f4",
   "metadata": {},
   "outputs": [
    {
     "data": {
      "text/plain": [
       "Time     0\n",
       "S1       0\n",
       "S2       0\n",
       "S3       0\n",
       "ST       0\n",
       "P1      12\n",
       "P2      12\n",
       "P3      12\n",
       "PT       6\n",
       "dtype: int64"
      ]
     },
     "execution_count": 8,
     "metadata": {},
     "output_type": "execute_result"
    }
   ],
   "source": [
    "df.isna().sum()"
   ]
  },
  {
   "cell_type": "code",
   "execution_count": 9,
   "id": "8f6f7e31-6f75-4096-9c70-524d73157044",
   "metadata": {},
   "outputs": [
    {
     "data": {
      "text/plain": [
       "Time    0\n",
       "S1      0\n",
       "S2      0\n",
       "S3      0\n",
       "ST      0\n",
       "P1      0\n",
       "P2      0\n",
       "P3      0\n",
       "PT      0\n",
       "dtype: int64"
      ]
     },
     "execution_count": 9,
     "metadata": {},
     "output_type": "execute_result"
    }
   ],
   "source": [
    "# Handle missing values (Mean Imputation)\n",
    "#df.fillna(df.mean(), inplace=True)\n",
    "df = df.dropna()\n",
    "df.isna().sum()"
   ]
  },
  {
   "cell_type": "code",
   "execution_count": 10,
   "id": "1460d27f-70b8-42f4-9031-c20cde33af31",
   "metadata": {},
   "outputs": [
    {
     "name": "stdout",
     "output_type": "stream",
     "text": [
      "<class 'pandas.core.frame.DataFrame'>\n",
      "Int64Index: 221 entries, 0 to 232\n",
      "Data columns (total 9 columns):\n",
      " #   Column  Non-Null Count  Dtype  \n",
      "---  ------  --------------  -----  \n",
      " 0   Time    221 non-null    int64  \n",
      " 1   S1      221 non-null    float64\n",
      " 2   S2      221 non-null    float64\n",
      " 3   S3      221 non-null    float64\n",
      " 4   ST      221 non-null    float64\n",
      " 5   P1      221 non-null    float64\n",
      " 6   P2      221 non-null    float64\n",
      " 7   P3      221 non-null    float64\n",
      " 8   PT      221 non-null    float64\n",
      "dtypes: float64(8), int64(1)\n",
      "memory usage: 17.3 KB\n"
     ]
    }
   ],
   "source": [
    "df.info()"
   ]
  },
  {
   "cell_type": "code",
   "execution_count": 11,
   "id": "033893d0-12a4-4ac9-b186-e2ec6158bf3e",
   "metadata": {},
   "outputs": [
    {
     "data": {
      "text/plain": [
       "Time    0\n",
       "S1      0\n",
       "S2      0\n",
       "S3      0\n",
       "ST      0\n",
       "P1      0\n",
       "P2      0\n",
       "P3      0\n",
       "PT      0\n",
       "dtype: int64"
      ]
     },
     "execution_count": 11,
     "metadata": {},
     "output_type": "execute_result"
    }
   ],
   "source": [
    "df.isna().sum()"
   ]
  },
  {
   "cell_type": "code",
   "execution_count": 12,
   "id": "b217a229-c842-4e1d-8765-8057c6659142",
   "metadata": {},
   "outputs": [
    {
     "data": {
      "text/html": [
       "<div>\n",
       "<style scoped>\n",
       "    .dataframe tbody tr th:only-of-type {\n",
       "        vertical-align: middle;\n",
       "    }\n",
       "\n",
       "    .dataframe tbody tr th {\n",
       "        vertical-align: top;\n",
       "    }\n",
       "\n",
       "    .dataframe thead th {\n",
       "        text-align: right;\n",
       "    }\n",
       "</style>\n",
       "<table border=\"1\" class=\"dataframe\">\n",
       "  <thead>\n",
       "    <tr style=\"text-align: right;\">\n",
       "      <th></th>\n",
       "      <th>Time</th>\n",
       "      <th>S1</th>\n",
       "      <th>S2</th>\n",
       "      <th>S3</th>\n",
       "      <th>ST</th>\n",
       "      <th>P1</th>\n",
       "      <th>P2</th>\n",
       "      <th>P3</th>\n",
       "      <th>PT</th>\n",
       "    </tr>\n",
       "  </thead>\n",
       "  <tbody>\n",
       "    <tr>\n",
       "      <th>0</th>\n",
       "      <td>0</td>\n",
       "      <td>6.2389</td>\n",
       "      <td>7.4459</td>\n",
       "      <td>8.2823</td>\n",
       "      <td>21.9671</td>\n",
       "      <td>274.644</td>\n",
       "      <td>276.426</td>\n",
       "      <td>251.100</td>\n",
       "      <td>802.170</td>\n",
       "    </tr>\n",
       "    <tr>\n",
       "      <th>1</th>\n",
       "      <td>1</td>\n",
       "      <td>5.4219</td>\n",
       "      <td>4.8077</td>\n",
       "      <td>5.1969</td>\n",
       "      <td>15.4265</td>\n",
       "      <td>234.846</td>\n",
       "      <td>281.286</td>\n",
       "      <td>193.752</td>\n",
       "      <td>709.884</td>\n",
       "    </tr>\n",
       "    <tr>\n",
       "      <th>2</th>\n",
       "      <td>2</td>\n",
       "      <td>5.0748</td>\n",
       "      <td>3.6868</td>\n",
       "      <td>3.1097</td>\n",
       "      <td>11.8713</td>\n",
       "      <td>263.682</td>\n",
       "      <td>270.216</td>\n",
       "      <td>150.390</td>\n",
       "      <td>684.288</td>\n",
       "    </tr>\n",
       "    <tr>\n",
       "      <th>3</th>\n",
       "      <td>3</td>\n",
       "      <td>3.4120</td>\n",
       "      <td>3.6288</td>\n",
       "      <td>4.3667</td>\n",
       "      <td>11.4075</td>\n",
       "      <td>200.826</td>\n",
       "      <td>181.926</td>\n",
       "      <td>169.506</td>\n",
       "      <td>552.258</td>\n",
       "    </tr>\n",
       "    <tr>\n",
       "      <th>4</th>\n",
       "      <td>4</td>\n",
       "      <td>6.8460</td>\n",
       "      <td>3.9673</td>\n",
       "      <td>4.2200</td>\n",
       "      <td>15.0333</td>\n",
       "      <td>153.036</td>\n",
       "      <td>158.544</td>\n",
       "      <td>135.216</td>\n",
       "      <td>446.796</td>\n",
       "    </tr>\n",
       "  </tbody>\n",
       "</table>\n",
       "</div>"
      ],
      "text/plain": [
       "   Time      S1      S2      S3       ST       P1       P2       P3       PT\n",
       "0     0  6.2389  7.4459  8.2823  21.9671  274.644  276.426  251.100  802.170\n",
       "1     1  5.4219  4.8077  5.1969  15.4265  234.846  281.286  193.752  709.884\n",
       "2     2  5.0748  3.6868  3.1097  11.8713  263.682  270.216  150.390  684.288\n",
       "3     3  3.4120  3.6288  4.3667  11.4075  200.826  181.926  169.506  552.258\n",
       "4     4  6.8460  3.9673  4.2200  15.0333  153.036  158.544  135.216  446.796"
      ]
     },
     "execution_count": 12,
     "metadata": {},
     "output_type": "execute_result"
    }
   ],
   "source": [
    "df.head()"
   ]
  },
  {
   "cell_type": "code",
   "execution_count": 13,
   "id": "c9a4cc07-1ec3-4736-92e6-c6c46db16c76",
   "metadata": {},
   "outputs": [],
   "source": [
    "# Define Features (X) and Target (y)\n",
    "#X = df[['S1', 'S2', 'S3']]  # Traffic data as features\n",
    "#y = df['PT']  # Power consumption as target\n",
    "\n",
    "# Split the dataset (80% train, 20% test)\n",
    "#X_train, X_test, y_train, y_test = train_test_split(X, y, test_size=0.2, random_state=42)\n"
   ]
  },
  {
   "cell_type": "code",
   "execution_count": 14,
   "id": "ec580b15-90a5-4367-8e98-3e4a9c73d2fb",
   "metadata": {},
   "outputs": [],
   "source": [
    "X_s1 = df[['S1']]\n",
    "y_s1 = df['P1']\n",
    "X_s2 = df[['S2']]\n",
    "y_s2 = df['P2']\n",
    "X_s3 = df[['S3']]\n",
    "y_s3 = df['P3']"
   ]
  },
  {
   "cell_type": "code",
   "execution_count": 15,
   "id": "94743816-f05a-4622-872d-914f35d0cdcd",
   "metadata": {},
   "outputs": [],
   "source": [
    "X_s1train, X_s1test, y_s1train, y_s1test = train_test_split(X_s1, y_s1, test_size=0.2, random_state=42)\n",
    "X_s2train, X_s2test, y_s2train, y_s2test = train_test_split(X_s2, y_s2, test_size=0.2, random_state=42)\n",
    "X_s3train, X_s3test, y_s3train, y_s3test = train_test_split(X_s3, y_s3, test_size=0.2, random_state=42)"
   ]
  },
  {
   "cell_type": "code",
   "execution_count": 16,
   "id": "21b4c148-b1cf-4afc-bce2-67d0d0d9ec05",
   "metadata": {},
   "outputs": [],
   "source": [
    "# from sklearn.ensemble import RandomForestRegressor\n",
    "# from sklearn.model_selection import GridSearchCV\n",
    "\n",
    "# # Define model\n",
    "# rf = RandomForestRegressor()\n",
    "\n",
    "# # Define parameter grid\n",
    "# param_grid = {\n",
    "#     'n_estimators': [100, 200, 300],\n",
    "#     'max_depth': [None, 10, 20, 30],\n",
    "#     'min_samples_split': [2, 5, 10],\n",
    "#     'min_samples_leaf': [1, 2, 4]\n",
    "# }\n",
    "\n",
    "# # Perform GridSearchCV\n",
    "# grid_search = GridSearchCV(rf, param_grid, cv=5, scoring='r2', n_jobs=-1)\n",
    "# grid_search.fit(X_s1train, y_s1train)\n",
    "\n",
    "# # Best parameters\n",
    "# print(grid_search.best_params_)\n"
   ]
  },
  {
   "cell_type": "code",
   "execution_count": 17,
   "id": "8196f976-dc14-4b24-8ea9-0f71b7e22de9",
   "metadata": {},
   "outputs": [],
   "source": [
    "# Train Rqndom Forest Model\n",
    "rf_model1 = RandomForestRegressor(n_estimators=200, max_depth=20, min_samples_leaf=4, min_samples_split = 10, random_state=42)\n",
    "#rf_model2 = RandomForestRegressor(n_estimators=100, random_state=42)\n",
    "rf_model2 = LinearRegression()\n",
    "#rf_model3 = RandomForestRegressor(n_estimators=100, random_state=42)\n",
    "rf_model3 = SVR()\n",
    "rf_model1.fit(X_s1train, y_s1train)\n",
    "rf_model2.fit(X_s2train, y_s2train)\n",
    "rf_model3.fit(X_s3train, y_s3train)\n",
    "\n",
    "\n",
    "# Predictions\n",
    "y_pred_lrs1 = rf_model1.predict(X_s1test)\n",
    "y_pred_lrs2 = rf_model2.predict(X_s2test)\n",
    "y_pred_lrs3 = rf_model3.predict(X_s3test)\n",
    "\n",
    "# Evaluation Metrics\n",
    "mae_lrs1 = mean_absolute_error(y_s1test, y_pred_lrs1)\n",
    "mae_lrs2 = mean_absolute_error(y_s2test, y_pred_lrs2)\n",
    "mae_lrs3 = mean_absolute_error(y_s3test, y_pred_lrs3)\n",
    "rmse_lrs1 = np.sqrt(mean_squared_error(y_s1test, y_pred_lrs1))\n",
    "rmse_lrs2 = np.sqrt(mean_squared_error(y_s2test, y_pred_lrs2))\n",
    "rmse_lrs3 = np.sqrt(mean_squared_error(y_s3test, y_pred_lrs3))\n",
    "r2_lrs1 = r2_score(y_s1test, y_pred_lrs1)\n",
    "r2_lrs2 = r2_score(y_s2test, y_pred_lrs2)\n",
    "r2_lrs3 = r2_score(y_s3test, y_pred_lrs3)\n",
    "\n",
    "mae = [mae_lrs1, mae_lrs2, mae_lrs3]\n",
    "rmse = [rmse_lrs1, rmse_lrs2, rmse_lrs3]\n",
    "r2 = [r2_lrs1, r2_lrs2, r2_lrs3]"
   ]
  },
  {
   "cell_type": "code",
   "execution_count": 18,
   "id": "a5cf74f9-f858-49f4-9c76-0b1becb7de2c",
   "metadata": {},
   "outputs": [
    {
     "name": "stdout",
     "output_type": "stream",
     "text": [
      "[8.294292045128113, 16.323138206892978, 16.498856340568334]\n"
     ]
    }
   ],
   "source": [
    "print(mae)"
   ]
  },
  {
   "cell_type": "code",
   "execution_count": 19,
   "id": "e02ff6cd-4091-4300-97b2-61d4a20f9f36",
   "metadata": {},
   "outputs": [
    {
     "name": "stdout",
     "output_type": "stream",
     "text": [
      "[16.622143480409193, 22.667230391560047, 22.34023804712231]\n"
     ]
    }
   ],
   "source": [
    "print(rmse)"
   ]
  },
  {
   "cell_type": "code",
   "execution_count": 20,
   "id": "d220645f-a36a-49de-ba8b-0e213f72876e",
   "metadata": {},
   "outputs": [
    {
     "name": "stdout",
     "output_type": "stream",
     "text": [
      "[0.8736927433610581, 0.7556162626352431, 0.6309700309589247]\n"
     ]
    }
   ],
   "source": [
    "print(r2)"
   ]
  },
  {
   "cell_type": "code",
   "execution_count": 21,
   "id": "ec3185c8-21a1-4873-a1d4-6903ebbcd7ee",
   "metadata": {},
   "outputs": [],
   "source": [
    "import pickle\n",
    "with open(\"model1.pkl\", \"wb\") as file:\n",
    "    pickle.dump(rf_model1, file)\n",
    "with open(\"model2.pkl\", \"wb\") as file:\n",
    "    pickle.dump(rf_model2, file)\n",
    "with open(\"model3.pkl\", \"wb\") as file:\n",
    "    pickle.dump(rf_model3, file)"
   ]
  },
  {
   "cell_type": "code",
   "execution_count": 22,
   "id": "99859a43-249f-4435-ad53-5f95fcd2f844",
   "metadata": {},
   "outputs": [
    {
     "name": "stdout",
     "output_type": "stream",
     "text": [
      "\n",
      "Random Forest Performance:\n",
      "Mean Absolute Error (MAE): 8.7241\n",
      "Root Mean Squared Error (RMSE): 16.3771\n",
      "R² Score: 0.8774\n"
     ]
    }
   ],
   "source": [
    "# Train Random Forest Model\n",
    "rf_model = RandomForestRegressor(n_estimators=100, random_state=42)\n",
    "rf_model.fit(X_s1train, y_s1train)\n",
    "\n",
    "# Predictions\n",
    "y_pred_rf = rf_model.predict(X_s1test)\n",
    "\n",
    "# Evaluation Metrics\n",
    "mae_rf = mean_absolute_error(y_s1test, y_pred_rf)\n",
    "rmse_rf = np.sqrt(mean_squared_error(y_s1test, y_pred_rf))\n",
    "r2_rf = r2_score(y_s1test, y_pred_rf)\n",
    "\n",
    "# Print Results\n",
    "print(\"\\nRandom Forest Performance:\")\n",
    "print(f\"Mean Absolute Error (MAE): {mae_rf:.4f}\")\n",
    "print(f\"Root Mean Squared Error (RMSE): {rmse_rf:.4f}\")\n",
    "print(f\"R² Score: {r2_rf:.4f}\")\n"
   ]
  },
  {
   "cell_type": "code",
   "execution_count": 23,
   "id": "11e93b2e-aa75-420f-8b72-f3c76b9fac16",
   "metadata": {},
   "outputs": [
    {
     "name": "stdout",
     "output_type": "stream",
     "text": [
      "\n",
      "Random Forest Performance:\n",
      "Mean Absolute Error (MAE): 10.6962\n",
      "Root Mean Squared Error (RMSE): 19.3476\n",
      "R² Score: 0.8289\n"
     ]
    }
   ],
   "source": [
    "# Train Random Forest Model\n",
    "#svr_model = RandomForestRegressor(n_estimators=100, random_state=42)\n",
    "svr = SVR()\n",
    "svr.fit(X_s1train, y_s1train)\n",
    "\n",
    "# Predictions\n",
    "y_pred_rf = svr.predict(X_s1test)\n",
    "\n",
    "# Evaluation Metrics\n",
    "mae_rf = mean_absolute_error(y_s1test, y_pred_rf)\n",
    "rmse_rf = np.sqrt(mean_squared_error(y_s1test, y_pred_rf))\n",
    "r2_rf = r2_score(y_s1test, y_pred_rf)\n",
    "\n",
    "# Print Results\n",
    "print(\"\\nRandom Forest Performance:\")\n",
    "print(f\"Mean Absolute Error (MAE): {mae_rf:.4f}\")\n",
    "print(f\"Root Mean Squared Error (RMSE): {rmse_rf:.4f}\")\n",
    "print(f\"R² Score: {r2_rf:.4f}\")\n"
   ]
  },
  {
   "cell_type": "code",
   "execution_count": 24,
   "id": "123170c7-1568-47e7-9378-7bf85d58db7d",
   "metadata": {},
   "outputs": [
    {
     "ename": "NameError",
     "evalue": "name 'X' is not defined",
     "output_type": "error",
     "traceback": [
      "\u001b[1;31m---------------------------------------------------------------------------\u001b[0m",
      "\u001b[1;31mNameError\u001b[0m                                 Traceback (most recent call last)",
      "Cell \u001b[1;32mIn[24], line 1\u001b[0m\n\u001b[1;32m----> 1\u001b[0m \u001b[43mX\u001b[49m\n",
      "\u001b[1;31mNameError\u001b[0m: name 'X' is not defined"
     ]
    }
   ],
   "source": [
    "X"
   ]
  },
  {
   "cell_type": "code",
   "execution_count": 15,
   "id": "ef4b220f-fa9b-4f4d-9599-bcf8aaa972ba",
   "metadata": {},
   "outputs": [
    {
     "data": {
      "text/plain": [
       "0      802.170\n",
       "1      709.884\n",
       "2      684.288\n",
       "3      552.258\n",
       "4      446.796\n",
       "        ...   \n",
       "228    537.300\n",
       "229    538.056\n",
       "230    540.432\n",
       "231    546.858\n",
       "232    543.402\n",
       "Name: PT, Length: 233, dtype: float64"
      ]
     },
     "execution_count": 15,
     "metadata": {},
     "output_type": "execute_result"
    }
   ],
   "source": [
    "y"
   ]
  },
  {
   "cell_type": "code",
   "execution_count": 16,
   "id": "278db847-d7a2-48b0-b2ac-be44c7b06980",
   "metadata": {
    "scrolled": true
   },
   "outputs": [
    {
     "data": {
      "text/html": [
       "<div>\n",
       "<style scoped>\n",
       "    .dataframe tbody tr th:only-of-type {\n",
       "        vertical-align: middle;\n",
       "    }\n",
       "\n",
       "    .dataframe tbody tr th {\n",
       "        vertical-align: top;\n",
       "    }\n",
       "\n",
       "    .dataframe thead th {\n",
       "        text-align: right;\n",
       "    }\n",
       "</style>\n",
       "<table border=\"1\" class=\"dataframe\">\n",
       "  <thead>\n",
       "    <tr style=\"text-align: right;\">\n",
       "      <th></th>\n",
       "      <th>S1</th>\n",
       "      <th>S2</th>\n",
       "      <th>S3</th>\n",
       "    </tr>\n",
       "  </thead>\n",
       "  <tbody>\n",
       "    <tr>\n",
       "      <th>144</th>\n",
       "      <td>3.4370</td>\n",
       "      <td>3.7961</td>\n",
       "      <td>4.5600</td>\n",
       "    </tr>\n",
       "    <tr>\n",
       "      <th>69</th>\n",
       "      <td>7.6967</td>\n",
       "      <td>8.4391</td>\n",
       "      <td>8.9900</td>\n",
       "    </tr>\n",
       "    <tr>\n",
       "      <th>230</th>\n",
       "      <td>3.7920</td>\n",
       "      <td>3.8828</td>\n",
       "      <td>5.3536</td>\n",
       "    </tr>\n",
       "    <tr>\n",
       "      <th>196</th>\n",
       "      <td>3.3050</td>\n",
       "      <td>3.6174</td>\n",
       "      <td>4.5296</td>\n",
       "    </tr>\n",
       "    <tr>\n",
       "      <th>223</th>\n",
       "      <td>2.8090</td>\n",
       "      <td>3.5867</td>\n",
       "      <td>3.0957</td>\n",
       "    </tr>\n",
       "    <tr>\n",
       "      <th>...</th>\n",
       "      <td>...</td>\n",
       "      <td>...</td>\n",
       "      <td>...</td>\n",
       "    </tr>\n",
       "    <tr>\n",
       "      <th>106</th>\n",
       "      <td>6.9558</td>\n",
       "      <td>8.3331</td>\n",
       "      <td>6.2292</td>\n",
       "    </tr>\n",
       "    <tr>\n",
       "      <th>14</th>\n",
       "      <td>2.5301</td>\n",
       "      <td>2.7592</td>\n",
       "      <td>2.0416</td>\n",
       "    </tr>\n",
       "    <tr>\n",
       "      <th>92</th>\n",
       "      <td>5.9833</td>\n",
       "      <td>7.0845</td>\n",
       "      <td>8.6351</td>\n",
       "    </tr>\n",
       "    <tr>\n",
       "      <th>179</th>\n",
       "      <td>2.9772</td>\n",
       "      <td>3.6708</td>\n",
       "      <td>4.6906</td>\n",
       "    </tr>\n",
       "    <tr>\n",
       "      <th>102</th>\n",
       "      <td>7.5594</td>\n",
       "      <td>6.2526</td>\n",
       "      <td>7.4326</td>\n",
       "    </tr>\n",
       "  </tbody>\n",
       "</table>\n",
       "<p>186 rows × 3 columns</p>\n",
       "</div>"
      ],
      "text/plain": [
       "         S1      S2      S3\n",
       "144  3.4370  3.7961  4.5600\n",
       "69   7.6967  8.4391  8.9900\n",
       "230  3.7920  3.8828  5.3536\n",
       "196  3.3050  3.6174  4.5296\n",
       "223  2.8090  3.5867  3.0957\n",
       "..      ...     ...     ...\n",
       "106  6.9558  8.3331  6.2292\n",
       "14   2.5301  2.7592  2.0416\n",
       "92   5.9833  7.0845  8.6351\n",
       "179  2.9772  3.6708  4.6906\n",
       "102  7.5594  6.2526  7.4326\n",
       "\n",
       "[186 rows x 3 columns]"
      ]
     },
     "execution_count": 16,
     "metadata": {},
     "output_type": "execute_result"
    }
   ],
   "source": [
    "pd.DataFrame(X_train)"
   ]
  },
  {
   "cell_type": "code",
   "execution_count": 17,
   "id": "7b03fbd9-63ac-4915-8fa8-7f32d64cf205",
   "metadata": {},
   "outputs": [
    {
     "data": {
      "text/plain": [
       "0      802.170\n",
       "1      709.884\n",
       "2      684.288\n",
       "3      552.258\n",
       "4      446.796\n",
       "        ...   \n",
       "228    537.300\n",
       "229    538.056\n",
       "230    540.432\n",
       "231    546.858\n",
       "232    543.402\n",
       "Name: PT, Length: 233, dtype: float64"
      ]
     },
     "execution_count": 17,
     "metadata": {},
     "output_type": "execute_result"
    }
   ],
   "source": [
    "y"
   ]
  },
  {
   "cell_type": "code",
   "execution_count": 18,
   "id": "435c02ad-8672-4747-bd82-8ebcd12f1f21",
   "metadata": {},
   "outputs": [],
   "source": [
    "# Train Linear Regression Model\n",
    "lr_model = LinearRegression()\n",
    "lr_model.fit(X_train, y_train)\n",
    "\n",
    "# Predictions\n",
    "y_pred_lr = lr_model.predict(X_test)\n",
    "\n",
    "# Evaluation Metrics\n",
    "mae_lr = mean_absolute_error(y_test, y_pred_lr)\n",
    "rmse_lr = np.sqrt(mean_squared_error(y_test, y_pred_lr))\n",
    "r2_lr = r2_score(y_test, y_pred_lr)\n"
   ]
  },
  {
   "cell_type": "code",
   "execution_count": 19,
   "id": "e759b772-5166-4264-bb22-56c808daf4a9",
   "metadata": {},
   "outputs": [
    {
     "data": {
      "text/plain": [
       "array([10.26370456, 16.94926369, 23.698129  ])"
      ]
     },
     "execution_count": 19,
     "metadata": {},
     "output_type": "execute_result"
    }
   ],
   "source": [
    "lr_model.coef_"
   ]
  },
  {
   "cell_type": "code",
   "execution_count": 20,
   "id": "5fe59473-2f54-45fc-bb00-43cec7dc442d",
   "metadata": {},
   "outputs": [
    {
     "name": "stdout",
     "output_type": "stream",
     "text": [
      "\n",
      "Linear Regression Performance:\n",
      "Mean Absolute Error (MAE): 53.9770\n",
      "Root Mean Squared Error (RMSE): 65.0829\n",
      "R² Score: 0.7069\n"
     ]
    }
   ],
   "source": [
    "# Print Results\n",
    "print(\"\\nLinear Regression Performance:\")\n",
    "print(f\"Mean Absolute Error (MAE): {mae_lr:.4f}\")\n",
    "print(f\"Root Mean Squared Error (RMSE): {rmse_lr:.4f}\")\n",
    "print(f\"R² Score: {r2_lr:.4f}\")"
   ]
  },
  {
   "cell_type": "code",
   "execution_count": 21,
   "id": "a3d8268e-e3b6-464a-b0bd-49c041c8e113",
   "metadata": {},
   "outputs": [
    {
     "name": "stdout",
     "output_type": "stream",
     "text": [
      "\n",
      "Random Forest Performance:\n",
      "Mean Absolute Error (MAE): 41.8956\n",
      "Root Mean Squared Error (RMSE): 94.5709\n",
      "R² Score: 0.3811\n"
     ]
    }
   ],
   "source": [
    "# Train Random Forest Model\n",
    "rf_model = RandomForestRegressor(n_estimators=100, random_state=42)\n",
    "rf_model.fit(X_train, y_train)\n",
    "\n",
    "# Predictions\n",
    "y_pred_rf = rf_model.predict(X_test)\n",
    "\n",
    "# Evaluation Metrics\n",
    "mae_rf = mean_absolute_error(y_test, y_pred_rf)\n",
    "rmse_rf = np.sqrt(mean_squared_error(y_test, y_pred_rf))\n",
    "r2_rf = r2_score(y_test, y_pred_rf)\n",
    "\n",
    "# Print Results\n",
    "print(\"\\nRandom Forest Performance:\")\n",
    "print(f\"Mean Absolute Error (MAE): {mae_rf:.4f}\")\n",
    "print(f\"Root Mean Squared Error (RMSE): {rmse_rf:.4f}\")\n",
    "print(f\"R² Score: {r2_rf:.4f}\")\n"
   ]
  },
  {
   "cell_type": "code",
   "execution_count": null,
   "id": "43a046ec-4050-4416-8c7d-550875cecaa0",
   "metadata": {},
   "outputs": [],
   "source": []
  }
 ],
 "metadata": {
  "kernelspec": {
   "display_name": "Python 3 (ipykernel)",
   "language": "python",
   "name": "python3"
  },
  "language_info": {
   "codemirror_mode": {
    "name": "ipython",
    "version": 3
   },
   "file_extension": ".py",
   "mimetype": "text/x-python",
   "name": "python",
   "nbconvert_exporter": "python",
   "pygments_lexer": "ipython3",
   "version": "3.10.9"
  }
 },
 "nbformat": 4,
 "nbformat_minor": 5
}
